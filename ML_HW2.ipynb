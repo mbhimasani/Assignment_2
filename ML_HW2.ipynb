{
 "cells": [
  {
   "cell_type": "code",
   "execution_count": 1,
   "id": "ab57fa9e",
   "metadata": {},
   "outputs": [],
   "source": [
    "import scipy as sp\n",
    "import numpy as np\n",
    "import pandas as pd\n",
    "import seaborn as sns\n",
    "import matplotlib.pyplot as plt\n",
    "import time\n",
    "import matplotlib\n",
    "matplotlib.rc('figure', figsize=[10,5])\n",
    "import mlrose_hiive"
   ]
  },
  {
   "cell_type": "markdown",
   "id": "c705c342",
   "metadata": {},
   "source": [
    "<h3>Utility Functions</h3>"
   ]
  },
  {
   "cell_type": "code",
   "execution_count": 2,
   "id": "50e1425d",
   "metadata": {},
   "outputs": [],
   "source": [
    "# plotting fitness curves, training time, function evaluation \n",
    "# [learning curves, loss per iteration, how many iterations to convergence / wall clock time]\n",
    "\n",
    "def create_plots():\n",
    "    return"
   ]
  },
  {
   "cell_type": "markdown",
   "id": "f7e0d631",
   "metadata": {},
   "source": [
    "<h3>Optimization problem 1 "
   ]
  }
 ],
 "metadata": {
  "kernelspec": {
   "display_name": "ML_HW2",
   "language": "python",
   "name": "ml_hw2"
  },
  "language_info": {
   "codemirror_mode": {
    "name": "ipython",
    "version": 3
   },
   "file_extension": ".py",
   "mimetype": "text/x-python",
   "name": "python",
   "nbconvert_exporter": "python",
   "pygments_lexer": "ipython3",
   "version": "3.6.13"
  }
 },
 "nbformat": 4,
 "nbformat_minor": 5
}
